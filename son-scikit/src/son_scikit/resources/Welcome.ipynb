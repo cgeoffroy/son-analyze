{
 "cells": [
  {
   "cell_type": "code",
   "execution_count": null,
   "metadata": {},
   "outputs": [],
   "source": [
    "import son_analyze\n",
    "import son_scikit\n",
    "print('Welcome to son-analyze v{} and son-scikit v{}.'.format(son_analyze.__version__, son_scikit.__version__))"
   ]
  },
  {
   "cell_type": "code",
   "execution_count": null,
   "metadata": {},
   "outputs": [],
   "source": [
    "import helpers\n",
    "print('You can use and tweak the python code in the helpers.py file (example: \"{}\")'.format(helpers.foobar()))"
   ]
  },
  {
   "cell_type": "code",
   "execution_count": null,
   "metadata": {},
   "outputs": [],
   "source": [
    "import json\n",
    "import arrow\n",
    "import requests\n",
    "from son_analyze.core.prometheus import PrometheusData\n",
    "from son_scikit.hl_prometheus import build_sonata_df_by_id\n",
    "\n",
    "#from http.client import HTTPConnection\n",
    "#HTTPConnection.debuglevel = 1\n",
    "\n",
    "query = 'sonemu_rx_count_packets{vnf_name=\"ubuntu_vnf1\",vnf_interface=\"port1\"}'\n",
    "end = arrow.utcnow()\n",
    "print('The current date is: {}'.format(end))\n",
    "start = end.replace(minutes=-50)\n",
    "payload = {'query': query, 'start': start.timestamp, 'end': end.timestamp, 'step': '1s'}\n",
    "req = requests.get('http://173.17.0.1:9090/api/v1/query_range?',\n",
    "                   params=payload)\n",
    "#print('---')\n",
    "#print(req.content)\n",
    "\n",
    "x = PrometheusData(json.dumps(req.json()))\n",
    "y = build_sonata_df_by_id(x)\n"
   ]
  },
  {
   "cell_type": "code",
   "execution_count": null,
   "metadata": {},
   "outputs": [],
   "source": [
    "import matplotlib\n",
    "import matplotlib.pyplot as plt\n",
    "matplotlib.style.use('ggplot')\n",
    "%matplotlib inline\n",
    "matplotlib.rcParams['figure.figsize'] = (10.0, 10.0)\n",
    "\n",
    "df = y['ubuntu_vnf1']\n",
    "\n",
    "def sanitize(x):\n",
    "    return min(15.0, x)\n",
    "\n",
    "ddf = df.diff().dropna()\n",
    "ddfn = ddf.copy()\n",
    "ddfn.sonemu_rx_count_packets = ddfn.sonemu_rx_count_packets.apply(sanitize)\n",
    "df.plot()\n",
    "#ddf.plot(logy=True)\n",
    "ddfn.plot()"
   ]
  },
  {
   "cell_type": "code",
   "execution_count": null,
   "metadata": {},
   "outputs": [],
   "source": [
    "import datetime\n",
    "import statsmodels.tsa.api as smt\n",
    "import statsmodels.api as sm\n",
    "from statsmodels.tsa.arima_model import ARMA, ARIMA\n",
    "from statsmodels.tsa.stattools import adfuller, arma_order_select_ic\n",
    "\n",
    "\n",
    "### see http://statsmodels.sourceforge.net/0.6.0/generated/statsmodels.tsa.arima_model.ARMAResults.plot_predict.html"
   ]
  },
  {
   "cell_type": "code",
   "execution_count": null,
   "metadata": {},
   "outputs": [],
   "source": [
    "target_arma = ddfn\n",
    "results_arma = sm.tsa.ARMA(target_arma, (3, 3)).fit()\n",
    "print(results_arma.summary2())\n",
    "fig, ax = plt.subplots()\n",
    "ax = target_arma.plot(ax=ax, logy=False)\n",
    "fig = results_arma.plot_predict(start=1, end=len(target_arma.index)+120, ax=ax, plot_insample=False)\n",
    "plt.show()"
   ]
  },
  {
   "cell_type": "code",
   "execution_count": null,
   "metadata": {},
   "outputs": [],
   "source": [
    "from pyculiarity import detect_ts\n",
    "import pandas as pd\n",
    "import time\n",
    "\n",
    "\n",
    "def f(x):\n",
    "    dt = x.to_datetime()\n",
    "    return time.mktime(dt.timetuple())\n",
    "\n",
    "target = ddf\n",
    "u = pd.DataFrame({'one': list(target.index.map(f)), 'two': target.sonemu_rx_count_packets})\n",
    "results = detect_ts(u, max_anoms=0.004, alpha=0.01, direction='both') #, threshold='med_max')\n",
    "\n",
    "#matplotlib.rcParams['figure.figsize'] = (20.0, 10.0)\n",
    "\n",
    "# make a nice plot\n",
    "f, ax = plt.subplots(2, 1, sharex=True)\n",
    "ax[0].plot(target.index, target.sonemu_rx_count_packets, 'b')\n",
    "ax[0].plot(results['anoms'].index, results['anoms']['anoms'], 'ro')\n",
    "ax[0].set_title('Detected Anomalies')\n",
    "ax[1].set_xlabel('Time Stamp')\n",
    "ax[0].set_ylabel('Count')\n",
    "ax[1].plot(results['anoms'].index, results['anoms']['anoms'], 'b')\n",
    "ax[1].set_ylabel('Anomaly Magnitude')\n",
    "plt.show()\n",
    "    \n"
   ]
  },
  {
   "cell_type": "code",
   "execution_count": null,
   "metadata": {},
   "outputs": [],
   "source": []
  }
 ],
 "metadata": {
  "kernelspec": {
   "display_name": "Python 3",
   "language": "python",
   "name": "python3"
  },
  "language_info": {
   "codemirror_mode": {
    "name": "ipython",
    "version": 3
   },
   "file_extension": ".py",
   "mimetype": "text/x-python",
   "name": "python",
   "nbconvert_exporter": "python",
   "pygments_lexer": "ipython3",
   "version": "3.6.1"
  }
 },
 "nbformat": 4,
 "nbformat_minor": 1
}
